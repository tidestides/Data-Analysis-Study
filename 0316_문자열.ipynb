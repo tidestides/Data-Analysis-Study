{
 "cells": [
  {
   "cell_type": "code",
   "execution_count": 1,
   "metadata": {},
   "outputs": [],
   "source": [
    "#문자열 다루는 법\n",
    "#정규식 표현 방법이 -> 대중적으로 많이 사용하는 방법 \n",
    "\n",
    "word = 'grail'\n",
    "sent = 'a scratch'"
   ]
  },
  {
   "cell_type": "markdown",
   "metadata": {},
   "source": [
    "- - 'g r a i l' # 인덱스 개념으로 문자열도 슬라이싱이 가능하다.\n"
   ]
  },
  {
   "cell_type": "code",
   "execution_count": 2,
   "metadata": {},
   "outputs": [
    {
     "name": "stdout",
     "output_type": "stream",
     "text": [
      "g\n"
     ]
    }
   ],
   "source": [
    "print(word[0]) #문자열 0번째 인덱스"
   ]
  },
  {
   "cell_type": "code",
   "execution_count": 4,
   "metadata": {},
   "outputs": [
    {
     "name": "stdout",
     "output_type": "stream",
     "text": [
      "a\n"
     ]
    }
   ],
   "source": [
    "print(sent[0]) #문자열 0번째 인덱스"
   ]
  },
  {
   "cell_type": "code",
   "execution_count": 7,
   "metadata": {},
   "outputs": [
    {
     "name": "stdout",
     "output_type": "stream",
     "text": [
      "gra\n"
     ]
    }
   ],
   "source": [
    "print(word[0:3]) #슬라이싱 하는 법 인덱스로"
   ]
  },
  {
   "cell_type": "code",
   "execution_count": 10,
   "metadata": {},
   "outputs": [
    {
     "name": "stdout",
     "output_type": "stream",
     "text": [
      "t\n"
     ]
    }
   ],
   "source": [
    "print(sent[-3])"
   ]
  },
  {
   "cell_type": "code",
   "execution_count": 11,
   "metadata": {},
   "outputs": [
    {
     "name": "stdout",
     "output_type": "stream",
     "text": [
      "scratch\n"
     ]
    }
   ],
   "source": [
    "#문자열 길이가 너무 길다.내가 인덱스의 끝을 모르는 경우\n",
    "\n",
    "print(sent[2:len(sent)]) #끝을 쉽게 찾는법"
   ]
  },
  {
   "cell_type": "markdown",
   "metadata": {},
   "source": [
    "## 문자열 메서드"
   ]
  },
  {
   "cell_type": "code",
   "execution_count": 62,
   "metadata": {},
   "outputs": [
    {
     "name": "stdout",
     "output_type": "stream",
     "text": [
      "Black knight\n",
      "1\n",
      "True\n",
      "True\n",
      "8\n",
      "20\n",
      "False\n",
      "True\n",
      "False\n",
      "black knight\n",
      "BLACK KNIGHT\n",
      "abc\n",
      "I'm not dead\n",
      "['N', '! N', '! N', '! N', '!']\n"
     ]
    }
   ],
   "source": [
    "#capitalize\n",
    "print(\"black Knight\".capitalize())\n",
    "#count\n",
    "print(\"It's just a flesh wound!\".count('a')) #개수를 세는 법\n",
    "#startswith\n",
    "print(\"Halt! who goes there?\".startswith('Halt'))\n",
    "#endswith\n",
    "print(\"Halt! who goes there?\".endswith('there?'))\n",
    "#find\n",
    "print(\"It's a just a flesh wound!\".find('u')) #찾은 문자열에 첫 번째 인덱스를 반환하는 것!\n",
    "#index\n",
    "print(\"It's a just a flesh wound!\".index('wound!'))# 문자열에 첫 번째 인덱스를 반환!\n",
    "#isalphs\n",
    "print('old woman'.isalpha()) #모든 문자가 알파벳이면 참이다.\n",
    "#isdecimal \n",
    "print(\"1\".isdecimal())#모든 문자가 숫자면 참이다.\n",
    "#isalnum\n",
    "print(\"I'm 20\".isalnum()) #알파벳이거나 숫자면 참이다. \n",
    "#lower\n",
    "print('Black Knight'.lower())\n",
    "#upper\n",
    "print('Black Knight'.upper())\n",
    "#replace\n",
    "print(\"flesh wound\".replace('flesh wound','abc')) #내가 가지고 있는 데이터 중에서 you , he\n",
    "#strip #공백을 제거 ( 문자열의 맨 앞과 맨 뒤에 있는 빈 칸을 제거합니다.) 많이 사용함!!\n",
    "print(\"         I'm not dead     \".strip())\n",
    "#split\n",
    "print(\"NI! NI! NI! NI!\".split(sep='')) #구분자를 지정하여 문자열을 나누고, 나눈 값들을 리스트 반환 \n"
   ]
  },
  {
   "cell_type": "markdown",
   "metadata": {},
   "source": [
    "## join, splitlines, replace"
   ]
  },
  {
   "cell_type": "code",
   "execution_count": 63,
   "metadata": {},
   "outputs": [],
   "source": [
    "d1 = '1'\n",
    "d2 = '2'\n",
    "s1 = '3'"
   ]
  },
  {
   "cell_type": "code",
   "execution_count": 73,
   "metadata": {},
   "outputs": [],
   "source": [
    "df = ' '.join([d1, d2, s1]) #join 앞에 ' '<- 붙이는 문자를 나눠준다."
   ]
  },
  {
   "cell_type": "code",
   "execution_count": 74,
   "metadata": {},
   "outputs": [
    {
     "data": {
      "text/plain": [
       "'1 2 3'"
      ]
     },
     "execution_count": 74,
     "metadata": {},
     "output_type": "execute_result"
    }
   ],
   "source": [
    "df"
   ]
  },
  {
   "cell_type": "markdown",
   "metadata": {},
   "source": [
    "### splitlines # 여러 행을 가진 문자열을 분리한 다음 리스트로 반환해요! "
   ]
  },
  {
   "cell_type": "code",
   "execution_count": 75,
   "metadata": {},
   "outputs": [],
   "source": [
    "multi_str=\"\"\"Guard: What? Ridden on a horse?\n",
    "king Arthur : Yes!\n",
    "Guard: You're using conconuts!\n",
    "king Arthur: What?\"\"\""
   ]
  },
  {
   "cell_type": "code",
   "execution_count": 76,
   "metadata": {},
   "outputs": [
    {
     "name": "stdout",
     "output_type": "stream",
     "text": [
      "Guard: What? Ridden on a horse?\n",
      "king Arthur : Yes!\n",
      "Guard: You're using conconuts!\n",
      "king Arthur: What?\n"
     ]
    }
   ],
   "source": [
    "print(multi_str)"
   ]
  },
  {
   "cell_type": "code",
   "execution_count": 77,
   "metadata": {},
   "outputs": [
    {
     "data": {
      "text/plain": [
       "['Guard: What? Ridden on a horse?',\n",
       " 'king Arthur : Yes!',\n",
       " \"Guard: You're using conconuts!\",\n",
       " 'king Arthur: What?']"
      ]
     },
     "execution_count": 77,
     "metadata": {},
     "output_type": "execute_result"
    }
   ],
   "source": [
    "multi_str.splitlines() "
   ]
  },
  {
   "cell_type": "code",
   "execution_count": 79,
   "metadata": {},
   "outputs": [
    {
     "data": {
      "text/plain": [
       "'Gad ht idno  os?kn rhr:Ys\\nur:Yur sn ocnt!kn rhr ht'"
      ]
     },
     "execution_count": 79,
     "metadata": {},
     "output_type": "execute_result"
    }
   ],
   "source": [
    "multi_str[::2] #인덱스 슬라이싱을 응용해서 특정 문자열만 가져오기 "
   ]
  },
  {
   "cell_type": "code",
   "execution_count": 80,
   "metadata": {},
   "outputs": [
    {
     "data": {
      "text/plain": [
       "\"Guard: What? Ridden on a horse?\\nking Arthur : Yes!\\nGuard: You're using conconuts!\\nking Arthur: What?\""
      ]
     },
     "execution_count": 80,
     "metadata": {},
     "output_type": "execute_result"
    }
   ],
   "source": [
    "multi_str"
   ]
  },
  {
   "cell_type": "code",
   "execution_count": 83,
   "metadata": {},
   "outputs": [
    {
     "data": {
      "text/plain": [
       "\"Guard: What? Ridden on a horse?\\nking Arthur : Yes!\\nGuard: You're using conconuts!\\nking Arthur: What?\""
      ]
     },
     "execution_count": 83,
     "metadata": {},
     "output_type": "execute_result"
    }
   ],
   "source": [
    "multi_str"
   ]
  },
  {
   "cell_type": "code",
   "execution_count": 87,
   "metadata": {},
   "outputs": [
    {
     "data": {
      "text/plain": [
       "\" What? Ridden on a horse?\\nking Arthur : Yes!\\n You're using conconuts!\\nking Arthur: What?\""
      ]
     },
     "execution_count": 87,
     "metadata": {},
     "output_type": "execute_result"
    }
   ],
   "source": [
    "multi_str.replace(\"Guard:\", \"\")#대체 할 수 있다."
   ]
  },
  {
   "cell_type": "code",
   "execution_count": null,
   "metadata": {},
   "outputs": [],
   "source": []
  },
  {
   "cell_type": "markdown",
   "metadata": {},
   "source": [
    "## 문자열 포매팅 "
   ]
  },
  {
   "cell_type": "markdown",
   "metadata": {},
   "source": [
    "### 반복되는 문자가 있으면 그 문자는 하나만 적어주고 나머지 바뀌는 곳은 변경해주는 것"
   ]
  },
  {
   "cell_type": "code",
   "execution_count": 92,
   "metadata": {},
   "outputs": [],
   "source": [
    "var = 'flesh wound'\n",
    "b = 'hello'\n",
    "s = \"It's a just a {}!\""
   ]
  },
  {
   "cell_type": "code",
   "execution_count": 93,
   "metadata": {},
   "outputs": [
    {
     "name": "stdout",
     "output_type": "stream",
     "text": [
      "It's a just a hello!\n"
     ]
    }
   ],
   "source": [
    "print(s.format(b)) #{} 플레이스 홀더"
   ]
  },
  {
   "cell_type": "code",
   "execution_count": 94,
   "metadata": {},
   "outputs": [],
   "source": [
    "s = \"\"\"Black Knight: 'TIs but a {0}.\n",
    "king Authur: A {0}? Your arm's off!\"\"\""
   ]
  },
  {
   "cell_type": "code",
   "execution_count": 95,
   "metadata": {},
   "outputs": [
    {
     "name": "stdout",
     "output_type": "stream",
     "text": [
      "Black Knight: 'TIs but a hi.\n",
      "king Authur: A hi? Your arm's off!\n"
     ]
    }
   ],
   "source": [
    "print(s.format('hi')) # 파이썬에서 문자열 포매팅 된다는 것을 알고 있어도 많은 도움이 될 거에요!"
   ]
  },
  {
   "cell_type": "code",
   "execution_count": 96,
   "metadata": {},
   "outputs": [
    {
     "name": "stdout",
     "output_type": "stream",
     "text": [
      "Some digit of pi: 3.141592654459\n"
     ]
    }
   ],
   "source": [
    "#숫자 데이터 포매팅하기 \n",
    "print('Some digit of pi: {}'.format(3.141592654459))"
   ]
  },
  {
   "cell_type": "code",
   "execution_count": 97,
   "metadata": {},
   "outputs": [
    {
     "name": "stdout",
     "output_type": "stream",
     "text": [
      "재현율값 : 3.141592654459\n"
     ]
    }
   ],
   "source": [
    "print('재현율값 : {}'.format(3.141592654459))"
   ]
  },
  {
   "cell_type": "code",
   "execution_count": 98,
   "metadata": {},
   "outputs": [
    {
     "name": "stdout",
     "output_type": "stream",
     "text": [
      "In 2005, Lu Chao of China recited 67,890 digits of pi\n"
     ]
    }
   ],
   "source": [
    "print('In 2005, Lu Chao of China recited {:,} digits of pi'.format(67890))"
   ]
  },
  {
   "cell_type": "code",
   "execution_count": 102,
   "metadata": {},
   "outputs": [
    {
     "name": "stdout",
     "output_type": "stream",
     "text": [
      "I remember 0.1235 or 12.3456% of what lu\n"
     ]
    }
   ],
   "source": [
    "#소수 표현할 때 정말 많이 사용\n",
    "print('I remember {0:.4} or {0:.4%} of what lu'.format(0.123456))"
   ]
  },
  {
   "cell_type": "markdown",
   "metadata": {},
   "source": [
    "### %연산자로 포매팅하기 "
   ]
  },
  {
   "cell_type": "code",
   "execution_count": 104,
   "metadata": {},
   "outputs": [
    {
     "name": "stdout",
     "output_type": "stream",
     "text": [
      "I only know 7 digits of pi\n"
     ]
    }
   ],
   "source": [
    "#10진수라면 값을 삽입할 위치에 %d\n",
    "\n",
    "s = 'I only know %d digits of pi' %7\n",
    "print(s)\n",
    "\n",
    "#파이썬 약속을 10진수라면 %숫자를 대입한다!\n"
   ]
  },
  {
   "cell_type": "code",
   "execution_count": 108,
   "metadata": {},
   "outputs": [],
   "source": [
    "s = 'I only know %d digits of pi' %3"
   ]
  },
  {
   "cell_type": "code",
   "execution_count": 109,
   "metadata": {},
   "outputs": [
    {
     "name": "stdout",
     "output_type": "stream",
     "text": [
      "I only know 3 digits of pi\n"
     ]
    }
   ],
   "source": [
    "print(s)"
   ]
  },
  {
   "cell_type": "code",
   "execution_count": 105,
   "metadata": {},
   "outputs": [
    {
     "name": "stdout",
     "output_type": "stream",
     "text": [
      "Some digits of e: 2.72\n"
     ]
    }
   ],
   "source": [
    "print('Some digits of %(cont)s: %(value).2f'%{'cont':'e','value':2.718}) #"
   ]
  },
  {
   "cell_type": "markdown",
   "metadata": {},
   "source": [
    "## 문자열 포매팅에 대해서 자주 사용되니깐 꼭 연습해주세요!!"
   ]
  },
  {
   "cell_type": "code",
   "execution_count": null,
   "metadata": {},
   "outputs": [],
   "source": []
  }
 ],
 "metadata": {
  "kernelspec": {
   "display_name": "Python 3",
   "language": "python",
   "name": "python3"
  },
  "language_info": {
   "codemirror_mode": {
    "name": "ipython",
    "version": 3
   },
   "file_extension": ".py",
   "mimetype": "text/x-python",
   "name": "python",
   "nbconvert_exporter": "python",
   "pygments_lexer": "ipython3",
   "version": "3.7.6"
  }
 },
 "nbformat": 4,
 "nbformat_minor": 4
}

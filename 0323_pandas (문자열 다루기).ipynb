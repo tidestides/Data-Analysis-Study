{
 "cells": [
  {
   "cell_type": "markdown",
   "metadata": {},
   "source": [
    "# 0323_pandas (문자열 다루기)"
   ]
  },
  {
   "cell_type": "markdown",
   "metadata": {},
   "source": [
    "### 1. 문자열 인덱싱 & 슬라이싱"
   ]
  },
  {
   "cell_type": "code",
   "execution_count": 6,
   "metadata": {},
   "outputs": [
    {
     "name": "stdout",
     "output_type": "stream",
     "text": [
      "t\n",
      "de\n",
      "beenflown\n"
     ]
    }
   ],
   "source": [
    "word = 'tidesbeenflown'\n",
    "\n",
    "print(word[0]) #문자열 인덱싱\n",
    "print(word[2:4]) #인덱싱 활용한 문자열 슬라이싱\n",
    "print(word[5:len(word)]) #문자열 끝 쉽게 찾기. 앞에 5개 날리고 문자열 끝까지 출력"
   ]
  },
  {
   "cell_type": "markdown",
   "metadata": {},
   "source": [
    "### 2. 문자열 메서드 "
   ]
  },
  {
   "cell_type": "markdown",
   "metadata": {},
   "source": [
    "##### 1) capitalize: 문자열 맨 앞 글자를 대문자로"
   ]
  },
  {
   "cell_type": "code",
   "execution_count": 32,
   "metadata": {},
   "outputs": [
    {
     "name": "stdout",
     "output_type": "stream",
     "text": [
      "Tides are been flown for 100 days\n"
     ]
    }
   ],
   "source": [
    "w = 'tides are been flown for 100 days'\n",
    "\n",
    "print(w.capitalize())"
   ]
  },
  {
   "cell_type": "markdown",
   "metadata": {},
   "source": [
    "##### 2) count: 문자열 내 특정 문자 개수 세기"
   ]
  },
  {
   "cell_type": "code",
   "execution_count": 11,
   "metadata": {},
   "outputs": [
    {
     "name": "stdout",
     "output_type": "stream",
     "text": [
      "2\n"
     ]
    }
   ],
   "source": [
    "print(w.count('f'))"
   ]
  },
  {
   "cell_type": "markdown",
   "metadata": {},
   "source": [
    "##### 3) startswith: 특정 문자로 시작하는지 진위 판단"
   ]
  },
  {
   "cell_type": "code",
   "execution_count": 12,
   "metadata": {},
   "outputs": [
    {
     "name": "stdout",
     "output_type": "stream",
     "text": [
      "False\n"
     ]
    }
   ],
   "source": [
    "print(w.startswith('f'))"
   ]
  },
  {
   "cell_type": "markdown",
   "metadata": {},
   "source": [
    "##### 4) endswith: 특정 문자로 끝나는지 진위 판단"
   ]
  },
  {
   "cell_type": "code",
   "execution_count": 14,
   "metadata": {},
   "outputs": [
    {
     "name": "stdout",
     "output_type": "stream",
     "text": [
      "True\n"
     ]
    }
   ],
   "source": [
    "print(w.endswith('s'))"
   ]
  },
  {
   "cell_type": "markdown",
   "metadata": {},
   "source": [
    "##### 5) find: 찾은 문자열의 첫 번째 인덱스를 반환"
   ]
  },
  {
   "cell_type": "code",
   "execution_count": 17,
   "metadata": {},
   "outputs": [
    {
     "name": "stdout",
     "output_type": "stream",
     "text": [
      "3\n"
     ]
    }
   ],
   "source": [
    "print(w.find('e'))"
   ]
  },
  {
   "cell_type": "markdown",
   "metadata": {},
   "source": [
    "##### 6) index: 문자열의 첫 번째 인덱스 반환"
   ]
  },
  {
   "cell_type": "code",
   "execution_count": 33,
   "metadata": {},
   "outputs": [
    {
     "name": "stdout",
     "output_type": "stream",
     "text": [
      "6\n"
     ]
    }
   ],
   "source": [
    "print(w.index('are'))"
   ]
  },
  {
   "cell_type": "markdown",
   "metadata": {},
   "source": [
    "##### 7) isalphs:모든 문자가 알파벳인지 진위 판단"
   ]
  },
  {
   "cell_type": "code",
   "execution_count": 20,
   "metadata": {},
   "outputs": [
    {
     "name": "stdout",
     "output_type": "stream",
     "text": [
      "False\n"
     ]
    }
   ],
   "source": [
    "print(w.isalpha())"
   ]
  },
  {
   "cell_type": "markdown",
   "metadata": {},
   "source": [
    "##### 8) isdecimal : 모든 문자가 숫자인지 진위 판단"
   ]
  },
  {
   "cell_type": "code",
   "execution_count": 22,
   "metadata": {},
   "outputs": [
    {
     "name": "stdout",
     "output_type": "stream",
     "text": [
      "True\n"
     ]
    }
   ],
   "source": [
    "print(\"100\".isdecimal())"
   ]
  },
  {
   "cell_type": "markdown",
   "metadata": {},
   "source": [
    "##### 9) isalnum: 모든 문자가 알파벳이거나 숫자면 참 반환. 공백이나 특수기호 들어가면 거짓 반환 "
   ]
  },
  {
   "cell_type": "code",
   "execution_count": 24,
   "metadata": {},
   "outputs": [
    {
     "name": "stdout",
     "output_type": "stream",
     "text": [
      "False\n",
      "True\n"
     ]
    }
   ],
   "source": [
    "print(w.isalnum())\n",
    "print(\"me\".isalnum())"
   ]
  },
  {
   "cell_type": "markdown",
   "metadata": {},
   "source": [
    "##### 10) #lower: 모든 문자열 소문자로\n",
    "\n",
    "##### 11) #upper: 모든 문자열 대문자로 "
   ]
  },
  {
   "cell_type": "code",
   "execution_count": 27,
   "metadata": {},
   "outputs": [
    {
     "name": "stdout",
     "output_type": "stream",
     "text": [
      "tidesbeenflown\n",
      "TIDESBEENFLOWN\n"
     ]
    }
   ],
   "source": [
    "w2 = 'TidesBeenFlown'\n",
    "\n",
    "print(w2.lower())\n",
    "print(w2.upper())"
   ]
  },
  {
   "cell_type": "markdown",
   "metadata": {},
   "source": [
    "##### 12) replace: 문자열 중 특정 문자 교체"
   ]
  },
  {
   "cell_type": "code",
   "execution_count": 34,
   "metadata": {},
   "outputs": [
    {
     "name": "stdout",
     "output_type": "stream",
     "text": [
      "waves are been flown for 100 days\n"
     ]
    }
   ],
   "source": [
    "print(w.replace('tides','waves'))"
   ]
  },
  {
   "cell_type": "markdown",
   "metadata": {},
   "source": [
    "##### 13) strip: 문자열의 맨 앞과 맨 뒤에 있는 공백 제거 **많이 사용"
   ]
  },
  {
   "cell_type": "code",
   "execution_count": 35,
   "metadata": {},
   "outputs": [
    {
     "name": "stdout",
     "output_type": "stream",
     "text": [
      "I'm turtle\n"
     ]
    }
   ],
   "source": [
    "print(\"         I'm turtle     \".strip())"
   ]
  },
  {
   "cell_type": "markdown",
   "metadata": {},
   "source": [
    "##### 14) split: 구분자를 지정하여 문자열을 나누고, 나눈 값들을 리스트 형식으로 반환"
   ]
  },
  {
   "cell_type": "code",
   "execution_count": 36,
   "metadata": {},
   "outputs": [
    {
     "name": "stdout",
     "output_type": "stream",
     "text": [
      "['subin', 'subin@naver.com', '01012345678']\n"
     ]
    }
   ],
   "source": [
    "id_info = 'subin/subin@naver.com/01012345678'\n",
    "print(id_info.split('/'))"
   ]
  },
  {
   "cell_type": "markdown",
   "metadata": {},
   "source": [
    "****************\n",
    "##### 15) join: 문자열 병합 "
   ]
  },
  {
   "cell_type": "code",
   "execution_count": 41,
   "metadata": {},
   "outputs": [
    {
     "data": {
      "text/plain": [
       "'me and my dog'"
      ]
     },
     "execution_count": 41,
     "metadata": {},
     "output_type": "execute_result"
    }
   ],
   "source": [
    "a = 'me'\n",
    "b = 'and'\n",
    "c = 'my dog'\n",
    "\n",
    "' '.join([a,b,c])\n",
    "#따옴표 안에는 병합할 문자열들 사이에 들어갈 문자 지정 가능\n",
    "#위 예는 문자열 사이에 space 지정"
   ]
  },
  {
   "cell_type": "markdown",
   "metadata": {},
   "source": [
    "##### 16) splitlines: 여러 행을 가진 문자열을 분리 후, 리스트 형식으로 반환"
   ]
  },
  {
   "cell_type": "code",
   "execution_count": 48,
   "metadata": {},
   "outputs": [
    {
     "data": {
      "text/plain": [
       "\"Guard: What? Ridden on a horse?\\nking Arthur : Yes!\\nGuard: You're using conconuts!\\nking Arthur: What?\""
      ]
     },
     "execution_count": 48,
     "metadata": {},
     "output_type": "execute_result"
    }
   ],
   "source": [
    "strs=\"\"\"Guard: What? Ridden on a horse?\n",
    "king Arthur : Yes!\n",
    "Guard: You're using conconuts!\n",
    "king Arthur: What?\"\"\"\n",
    "\n",
    "strs"
   ]
  },
  {
   "cell_type": "code",
   "execution_count": 50,
   "metadata": {},
   "outputs": [
    {
     "name": "stdout",
     "output_type": "stream",
     "text": [
      "['Guard: What? Ridden on a horse?', 'king Arthur : Yes!', \"Guard: You're using conconuts!\", 'king Arthur: What?']\n",
      "Gad ht idno  os?kn rhr:Ys\n",
      "ur:Yur sn ocnt!kn rhr ht\n"
     ]
    }
   ],
   "source": [
    "print(strs.splitlines())\n",
    "\n",
    "print(strs[::2]) #인덱싱 통한 슬라이싱도 가능"
   ]
  },
  {
   "cell_type": "markdown",
   "metadata": {},
   "source": [
    "### 3. 문자열 포매팅\n",
    ": 반복되는 문자가 있으면 그 문자는 하나만 적어주고 나머지 바뀌는 곳은 변경해주기. "
   ]
  },
  {
   "cell_type": "code",
   "execution_count": 51,
   "metadata": {},
   "outputs": [
    {
     "data": {
      "text/plain": [
       "'Warning for Jisu!'"
      ]
     },
     "execution_count": 51,
     "metadata": {},
     "output_type": "execute_result"
    }
   ],
   "source": [
    "notice = 'Warning for {}!'\n",
    "notice.format('Jisu')"
   ]
  },
  {
   "cell_type": "code",
   "execution_count": 53,
   "metadata": {},
   "outputs": [
    {
     "data": {
      "text/plain": [
       "'You are 165 centimeters tall'"
      ]
     },
     "execution_count": 53,
     "metadata": {},
     "output_type": "execute_result"
    }
   ],
   "source": [
    "h = 'You are {} centimeters tall'\n",
    "h.format('165') #숫자 포매팅"
   ]
  },
  {
   "cell_type": "code",
   "execution_count": 56,
   "metadata": {},
   "outputs": [
    {
     "name": "stdout",
     "output_type": "stream",
     "text": [
      "In 2005, Lu Chao of China recited 67,890 digits of pi\n",
      "I remember 0.1235 or 12.3456% of what lu\n"
     ]
    }
   ],
   "source": [
    "print('In 2005, Lu Chao of China recited {:,} digits of pi'.format(67890)) #숫자 가독성 향상\n",
    "print('I remember {0:.4} or {0:.4%} of what lu'.format(0.123456)) #소수 표현할 때"
   ]
  },
  {
   "cell_type": "markdown",
   "metadata": {},
   "source": [
    "### 3. 연산자 포매팅\n",
    ": 10진수라면 값을 삽입할 위치에 %d 표기. 10진수라면 '%숫자' 대입!"
   ]
  },
  {
   "cell_type": "code",
   "execution_count": 57,
   "metadata": {},
   "outputs": [
    {
     "data": {
      "text/plain": [
       "'I have 10cents'"
      ]
     },
     "execution_count": 57,
     "metadata": {},
     "output_type": "execute_result"
    }
   ],
   "source": [
    "s = 'I have %dcents' %10\n",
    "s"
   ]
  },
  {
   "cell_type": "code",
   "execution_count": 64,
   "metadata": {},
   "outputs": [
    {
     "data": {
      "text/plain": [
       "'grade 3 can get 300.00 points'"
      ]
     },
     "execution_count": 64,
     "metadata": {},
     "output_type": "execute_result"
    }
   ],
   "source": [
    "s2 = 'grade %(g)s can get %(p).2f points'%{'g':3,'p':300}\n",
    "s2"
   ]
  }
 ],
 "metadata": {
  "interpreter": {
   "hash": "638d3be8a5e09d71cedde0573b6089a31eca6900815d05a6928e050c11dff995"
  },
  "kernelspec": {
   "display_name": "Python 3.8.10 64-bit",
   "language": "python",
   "name": "python3"
  },
  "language_info": {
   "codemirror_mode": {
    "name": "ipython",
    "version": 3
   },
   "file_extension": ".py",
   "mimetype": "text/x-python",
   "name": "python",
   "nbconvert_exporter": "python",
   "pygments_lexer": "ipython3",
   "version": "3.8.10"
  },
  "orig_nbformat": 4
 },
 "nbformat": 4,
 "nbformat_minor": 2
}
